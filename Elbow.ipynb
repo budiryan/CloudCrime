{
 "cells": [
  {
   "cell_type": "code",
   "execution_count": 1,
   "metadata": {
    "collapsed": true
   },
   "outputs": [],
   "source": [
    "import numpy as np\n",
    "from math import sqrt\n",
    "\n",
    "import datetime\n",
    "import csv\n",
    "import matplotlib.pyplot as plt\n",
    "\n",
    "from pyspark.mllib.clustering import KMeans, KMeansModel"
   ]
  },
  {
   "cell_type": "code",
   "execution_count": 2,
   "metadata": {
    "collapsed": false
   },
   "outputs": [],
   "source": [
    "with open('data/detroit.csv') as f:\n",
    "    csv_file = csv.reader(f)\n",
    "    next(csv_file)\n",
    "    crime_list = []\n",
    "    for row in csv_file:\n",
    "        crime_list.append(row)"
   ]
  },
  {
   "cell_type": "code",
   "execution_count": 3,
   "metadata": {
    "collapsed": false
   },
   "outputs": [],
   "source": [
    "data = []\n",
    "for row in crime_list:\n",
    "    crime_date = datetime.datetime.strptime(row[2], '%m/%d/%Y').date()\n",
    "    crime_pos  = np.array([float(row[-2]), float(row[-1])])\n",
    "    crime_type = row[3].split('-')[0].strip()\n",
    "    crime_type = crime_type.split('(')[0].strip()\n",
    "    crime_type = crime_type.split(',')[0].strip()\n",
    "    data.append([crime_date, crime_pos, crime_type])"
   ]
  },
  {
   "cell_type": "code",
   "execution_count": 4,
   "metadata": {
    "collapsed": false
   },
   "outputs": [],
   "source": [
    "data_rdd = sc.parallelize(data)\n",
    "histogram_year_rdd = data_rdd.map(lambda x: (x[0].month, 1)).reduceByKey(lambda x, y: x + y).sortByKey()\n",
    "year_count = histogram_year_rdd.collect()\n",
    "histogram_category_rdd = data_rdd.flatMap(lambda x: [(category, 1) for category in x[2]]).reduceByKey(lambda x, y: x + y).sortByKey()\n",
    "category_count = histogram_category_rdd.collect()"
   ]
  },
  {
   "cell_type": "code",
   "execution_count": 5,
   "metadata": {
    "collapsed": true
   },
   "outputs": [],
   "source": [
    "def selection(item, choices):\n",
    "    return choices is None or item in choices"
   ]
  },
  {
   "cell_type": "code",
   "execution_count": 6,
   "metadata": {
    "collapsed": true
   },
   "outputs": [],
   "source": [
    "def cluster(date_range, category_types, num_clusters):\n",
    "    #Label data\n",
    "    filtered_rdd = data_rdd.filter(lambda x: selection(x[0], date_range) and selection(x[2], category_types))\n",
    "    pos_rdd = filtered_rdd.map(lambda x: x[1])\n",
    "    clusters = KMeans.train(pos_rdd, num_clusters, maxIterations=100, initializationMode=\"random\")\n",
    "    label_rdd = pos_rdd.map(lambda x: [x, clusters.centers[clusters.predict(x)]])\n",
    "    \n",
    "    #Cluster and distribution\n",
    "    return label_rdd, clusters"
   ]
  },
  {
   "cell_type": "code",
   "execution_count": 7,
   "metadata": {
    "collapsed": true
   },
   "outputs": [],
   "source": [
    "def sse(point, center):\n",
    "    return sqrt(sum([i**2 for i in (point - center)]))"
   ]
  },
  {
   "cell_type": "code",
   "execution_count": 8,
   "metadata": {
    "collapsed": false
   },
   "outputs": [],
   "source": [
    "def error_plot(dates, categories, cluster_range):\n",
    "    error = []\n",
    "    for num_cluster in cluster_range:\n",
    "        label_rdd, clusters = cluster(dates, categories, num_cluster)\n",
    "        error.append(label_rdd.map(lambda x: sse(x[0], x[1])).reduce(lambda x, y: x + y))\n",
    "    return error"
   ]
  },
  {
   "cell_type": "code",
   "execution_count": 14,
   "metadata": {
    "collapsed": false
   },
   "outputs": [],
   "source": [
    "errors = error_plot(None, None, range(1,21))"
   ]
  },
  {
   "cell_type": "code",
   "execution_count": 20,
   "metadata": {
    "collapsed": false
   },
   "outputs": [
    {
     "data": {
      "text/plain": [
       "[<matplotlib.lines.Line2D at 0xac8b4aec>]"
      ]
     },
     "execution_count": 20,
     "metadata": {},
     "output_type": "execute_result"
    },
    {
     "data": {
      "image/png": "[encoded data removed]",
      "text/plain": [
       "<matplotlib.figure.Figure at 0xace3aeec>"
      ]
     },
     "metadata": {},
     "output_type": "display_data"
    }
   ],
   "source": [
    "plt.plot(range(1, 21), errors)"
   ]
  }
 ],
 "metadata": {
  "kernelspec": {
   "display_name": "Python 2",
   "language": "python",
   "name": "python2"
  },
  "language_info": {
   "codemirror_mode": {
    "name": "ipython",
    "version": 2
   },
   "file_extension": ".py",
   "mimetype": "text/x-python",
   "name": "python",
   "nbconvert_exporter": "python",
   "pygments_lexer": "ipython2",
   "version": "2.7.6"
  }
 },
 "nbformat": 4,
 "nbformat_minor": 0
}
