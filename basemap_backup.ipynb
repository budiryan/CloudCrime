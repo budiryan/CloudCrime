{
 "cells": [
  {
   "cell_type": "code",
   "execution_count": 2,
   "metadata": {
    "collapsed": true
   },
   "outputs": [],
   "source": [
    "from mpl_toolkits.basemap import Basemap\n",
    "from scipy import ndimage\n",
    "from matplotlib.image import BboxImage\n",
    "from matplotlib.transforms import Bbox, TransformedBbox"
   ]
  },
  {
   "cell_type": "code",
   "execution_count": 3,
   "metadata": {
    "collapsed": true
   },
   "outputs": [],
   "source": [
    "scale=1.5\n",
    "\n",
    "#for now, only sets markersize ased on count... need to implement blur\n",
    "def plot_point(x,y,sd,count):\n",
    "    #create marker image\n",
    "#     fig2 = plt.figure(2)\n",
    "#     fig2.clf()\n",
    "#     ax1= fig2.add_subplot(111)\n",
    "#     ax1.plot(0.5,0.5,'o',ms=3)\n",
    "#     ax1.set_ylim(0,1)\n",
    "#     ax1.set_xlim(0,1)\n",
    "#     plt.axis('off')\n",
    "#     fig2.savefig('marker.png', dpi=10)\n",
    "    \n",
    "#     print(\"made figure\")\n",
    "    \n",
    "#     #plot with Gaussian blur\n",
    "#     plt.figure(1)\n",
    "#     #marker = plt.imread('marker.png')\n",
    "#     markerBlur = ndimage.gaussian_filter(marker,sd)\n",
    "#     # Create an BboxImage for the blurred marker and add it to the plot. \n",
    "#     bb = Bbox.from_bounds(x,y,1,1)  \n",
    "#     bb2 = TransformedBbox(bb,ax1.transData)\n",
    "#     bbox_image = BboxImage(bb2,\n",
    "#                            norm = None,\n",
    "#                            origin=None,\n",
    "#                            clip_on=False)\n",
    "#     bbox_image.set_data(markerBlur)\n",
    "#     print(\"s\")\n",
    "#     ax1.add_artist(bbox_image)\n",
    "    lats=[x]\n",
    "    lons=[y]\n",
    "    x,y = map(lons, lats)\n",
    "    map.plot(x, y, 'bo', markersize=scale*count)"
   ]
  },
  {
   "cell_type": "code",
   "execution_count": null,
   "metadata": {
    "collapsed": true
   },
   "outputs": [],
   "source": [
    "detroit_long= -82.928223\n",
    "detroit_lat= 42.405678\n",
    "\n",
    "\n",
    "fig1=plt.figure(1)\n",
    "ax1=fig1.add_subplot(111)\n",
    "map = Basemap(projection='merc', lat_0 = detroit_lat, lon_0 = detroit_long,\n",
    "    resolution = 'f',\n",
    "    llcrnrlon=-83.35, llcrnrlat=42.28,\n",
    "    urcrnrlon=-82.81, urcrnrlat=42.48)\n",
    " \n",
    "map.drawmapboundary(fill_color='aqua')\n",
    "map.fillcontinents(color='coral',lake_color='aqua')\n",
    "map.drawcoastlines()\n",
    "map.drawstates()\n",
    "map.drawparallels([x/100.0 for x in range(4210, 4265, 5)], linewidth=1.0, dashes=[4, 2], labels=[1,0,0,0], color='r')\n",
    "map.drawmeridians([x/100.0 for x in range(-8330, -8285, 5)], labels=[1,0,0,0])\n",
    "\n",
    "###fixed marker size\n",
    "#lats=[x[0] for x in centers]\n",
    "#lons=[x[1] for x in centers]\n",
    "#x,y = map(lons, lats)\n",
    "#map.plot(x, y, 'bo', markersize=10)\n",
    "\n",
    "#plot all centers with varying marker size\n",
    "for entry in danger_zone:\n",
    "    plot_point(entry[0][0], entry[0][1], entry[2], entry[3])\n",
    "\n",
    "plt.show()"
   ]
  }
 ],
 "metadata": {
  "kernelspec": {
   "display_name": "Python 2",
   "language": "python",
   "name": "python2"
  },
  "language_info": {
   "codemirror_mode": {
    "name": "ipython",
    "version": 2
   },
   "file_extension": ".py",
   "mimetype": "text/x-python",
   "name": "python",
   "nbconvert_exporter": "python",
   "pygments_lexer": "ipython2",
   "version": "2.7.6"
  }
 },
 "nbformat": 4,
 "nbformat_minor": 0
}
